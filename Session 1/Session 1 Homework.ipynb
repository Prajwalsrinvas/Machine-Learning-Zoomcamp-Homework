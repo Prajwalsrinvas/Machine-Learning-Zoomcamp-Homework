{
 "cells": [
  {
   "cell_type": "markdown",
   "id": "61a913f0",
   "metadata": {},
   "source": [
    "# Session 1 Homework"
   ]
  },
  {
   "cell_type": "code",
   "execution_count": 5,
   "id": "eaeb6ebe",
   "metadata": {
    "ExecuteTime": {
     "end_time": "2021-09-13T14:22:02.332434Z",
     "start_time": "2021-09-13T14:22:02.322427Z"
    }
   },
   "outputs": [],
   "source": [
    "import numpy as np\n",
    "import pandas as pd"
   ]
  },
  {
   "cell_type": "markdown",
   "id": "5e4c8643",
   "metadata": {},
   "source": [
    "## Question 1  \n",
    "What's the version of NumPy that you installed?"
   ]
  },
  {
   "cell_type": "code",
   "execution_count": 6,
   "id": "d6fc1de0",
   "metadata": {
    "ExecuteTime": {
     "end_time": "2021-09-13T14:22:02.348425Z",
     "start_time": "2021-09-13T14:22:02.338424Z"
    }
   },
   "outputs": [
    {
     "data": {
      "text/plain": [
       "'1.20.3'"
      ]
     },
     "execution_count": 6,
     "metadata": {},
     "output_type": "execute_result"
    }
   ],
   "source": [
    "np.__version__"
   ]
  },
  {
   "cell_type": "markdown",
   "id": "40ce8cba",
   "metadata": {},
   "source": [
    "## Question 2\n",
    "What's the version of Pandas?"
   ]
  },
  {
   "cell_type": "code",
   "execution_count": 7,
   "id": "0b8334cb",
   "metadata": {
    "ExecuteTime": {
     "end_time": "2021-09-13T14:22:02.364423Z",
     "start_time": "2021-09-13T14:22:02.354429Z"
    }
   },
   "outputs": [
    {
     "data": {
      "text/plain": [
       "'1.3.1'"
      ]
     },
     "execution_count": 7,
     "metadata": {},
     "output_type": "execute_result"
    }
   ],
   "source": [
    "pd.__version__"
   ]
  },
  {
   "cell_type": "markdown",
   "id": "2fb287a2",
   "metadata": {
    "ExecuteTime": {
     "end_time": "2021-09-13T14:15:05.857718Z",
     "start_time": "2021-09-13T14:15:05.840759Z"
    }
   },
   "source": [
    "## Getting the data"
   ]
  },
  {
   "cell_type": "code",
   "execution_count": 8,
   "id": "f90897da",
   "metadata": {
    "ExecuteTime": {
     "end_time": "2021-09-13T14:22:02.944632Z",
     "start_time": "2021-09-13T14:22:02.370424Z"
    }
   },
   "outputs": [
    {
     "name": "stderr",
     "output_type": "stream",
     "text": [
      "--2021-09-13 19:52:02--  https://raw.githubusercontent.com/alexeygrigorev/mlbookcamp-code/master/chapter-02-car-price/data.csv\n",
      "Resolving raw.githubusercontent.com (raw.githubusercontent.com)... 185.199.108.133, 185.199.111.133, 185.199.109.133, ...\n",
      "Connecting to raw.githubusercontent.com (raw.githubusercontent.com)|185.199.108.133|:443... connected.\n",
      "HTTP request sent, awaiting response... 200 OK\n",
      "Length: 1475504 (1.4M) [text/plain]\n",
      "Saving to: 'data.csv'\n",
      "\n",
      "     0K .......... .......... .......... .......... ..........  3% 1.78M 1s\n",
      "    50K .......... .......... .......... .......... ..........  6% 3.66M 1s\n",
      "   100K .......... .......... .......... .......... .......... 10% 2.41M 1s\n",
      "   150K .......... .......... .......... .......... .......... 13% 5.69M 0s\n",
      "   200K .......... .......... .......... .......... .......... 17% 5.25M 0s\n",
      "   250K .......... .......... .......... .......... .......... 20% 4.48M 0s\n",
      "   300K .......... .......... .......... .......... .......... 24% 4.36M 0s\n",
      "   350K .......... .......... .......... .......... .......... 27% 3.23M 0s\n",
      "   400K .......... .......... .......... .......... .......... 31% 5.08M 0s\n",
      "   450K .......... .......... .......... .......... .......... 34% 7.43M 0s\n",
      "   500K .......... .......... .......... .......... .......... 38% 7.28M 0s\n",
      "   550K .......... .......... .......... .......... .......... 41% 11.2M 0s\n",
      "   600K .......... .......... .......... .......... .......... 45% 5.69M 0s\n",
      "   650K .......... .......... .......... .......... .......... 48% 18.8M 0s\n",
      "   700K .......... .......... .......... .......... .......... 52% 11.2M 0s\n",
      "   750K .......... .......... .......... .......... .......... 55% 5.62M 0s\n",
      "   800K .......... .......... .......... .......... .......... 58% 13.1M 0s\n",
      "   850K .......... .......... .......... .......... .......... 62% 5.64M 0s\n",
      "   900K .......... .......... .......... .......... .......... 65% 12.0M 0s\n",
      "   950K .......... .......... .......... .......... .......... 69% 13.1M 0s\n",
      "  1000K .......... .......... .......... .......... .......... 72% 12.4M 0s\n",
      "  1050K .......... .......... .......... .......... .......... 76% 9.36M 0s\n",
      "  1100K .......... .......... .......... .......... .......... 79% 6.24M 0s\n",
      "  1150K .......... .......... .......... .......... .......... 83% 4.22M 0s\n",
      "  1200K .......... .......... .......... .......... .......... 86% 19.9M 0s\n",
      "  1250K .......... .......... .......... .......... .......... 90% 9.60M 0s\n",
      "  1300K .......... .......... .......... .......... .......... 93% 12.7M 0s\n",
      "  1350K .......... .......... .......... .......... .......... 97% 5.37M 0s\n",
      "  1400K .......... .......... .......... ..........           100% 6.42M=0.2s\n",
      "\n",
      "2021-09-13 19:52:02 (5.79 MB/s) - 'data.csv' saved [1475504/1475504]\n",
      "\n"
     ]
    }
   ],
   "source": [
    "!wget https://raw.githubusercontent.com/alexeygrigorev/mlbookcamp-code/master/chapter-02-car-price/data.csv\n",
    "df = pd.read_csv('data.csv')"
   ]
  },
  {
   "cell_type": "markdown",
   "id": "30ed3e55",
   "metadata": {},
   "source": [
    "## Question 3\n",
    "What's the average price of BMW cars in the dataset?"
   ]
  },
  {
   "cell_type": "code",
   "execution_count": 9,
   "id": "65d3d49a",
   "metadata": {
    "ExecuteTime": {
     "end_time": "2021-09-13T14:22:02.976637Z",
     "start_time": "2021-09-13T14:22:02.950635Z"
    }
   },
   "outputs": [
    {
     "data": {
      "text/plain": [
       "61546.76347305389"
      ]
     },
     "execution_count": 9,
     "metadata": {},
     "output_type": "execute_result"
    }
   ],
   "source": [
    "df[df.Make == 'BMW'].MSRP.mean()"
   ]
  },
  {
   "cell_type": "markdown",
   "id": "92a0c72c",
   "metadata": {},
   "source": [
    "## Question 4\n",
    "Select a subset of cars after year 2015 (inclusive, i.e. 2015 and after). How many of them have missing values for Engine HP?"
   ]
  },
  {
   "cell_type": "code",
   "execution_count": 10,
   "id": "e8550d15",
   "metadata": {
    "ExecuteTime": {
     "end_time": "2021-09-13T14:22:03.026094Z",
     "start_time": "2021-09-13T14:22:02.984632Z"
    }
   },
   "outputs": [
    {
     "data": {
      "text/plain": [
       "51"
      ]
     },
     "execution_count": 10,
     "metadata": {},
     "output_type": "execute_result"
    }
   ],
   "source": [
    "df[df.Year >= 2015]['Engine HP'].isna().sum()"
   ]
  },
  {
   "cell_type": "markdown",
   "id": "44a5e6eb",
   "metadata": {},
   "source": [
    "## Question 5\n",
    "- Calculate the average \"Engine HP\" in the dataset.\n",
    "- Use the fillna method and to fill the missing values in \"Engine HP\" with the mean value from the previous step.\n",
    "- Now, calculate the average of \"Engine HP\" again.\n",
    "- Has it changed?\n",
    "- Round both means before answering this questions."
   ]
  },
  {
   "cell_type": "code",
   "execution_count": 11,
   "id": "e91e440a",
   "metadata": {
    "ExecuteTime": {
     "end_time": "2021-09-13T14:22:03.069266Z",
     "start_time": "2021-09-13T14:22:03.037068Z"
    }
   },
   "outputs": [],
   "source": [
    "mean_hp_before = df['Engine HP'].mean()"
   ]
  },
  {
   "cell_type": "code",
   "execution_count": 12,
   "id": "4a66e438",
   "metadata": {
    "ExecuteTime": {
     "end_time": "2021-09-13T14:22:03.101255Z",
     "start_time": "2021-09-13T14:22:03.080256Z"
    }
   },
   "outputs": [],
   "source": [
    "mean_hp_after = df['Engine HP'].fillna(mean_hp_before).mean()"
   ]
  },
  {
   "cell_type": "code",
   "execution_count": 13,
   "id": "c568f91d",
   "metadata": {
    "ExecuteTime": {
     "end_time": "2021-09-13T14:22:03.133278Z",
     "start_time": "2021-09-13T14:22:03.108257Z"
    }
   },
   "outputs": [
    {
     "name": "stdout",
     "output_type": "stream",
     "text": [
      "249\n",
      "249\n"
     ]
    }
   ],
   "source": [
    "print(round(mean_hp_before))\n",
    "print(round(mean_hp_after))"
   ]
  },
  {
   "cell_type": "markdown",
   "id": "c9eef853",
   "metadata": {
    "ExecuteTime": {
     "end_time": "2021-09-13T14:19:35.160414Z",
     "start_time": "2021-09-13T14:19:35.133407Z"
    }
   },
   "source": [
    "## Question 6\n",
    "- Select all the \"Rolls-Royce\" cars from the dataset.\n",
    "- Select only columns \"Engine HP\", \"Engine Cylinders\", \"highway MPG\".\n",
    "- Now drop all duplicated rows using drop_duplicates method (you should get a dataframe with 7 rows).\n",
    "- Get the underlying NumPy array. Let's call it X.\n",
    "- Compute matrix-matrix multiplication between the transpose of X and X. To get the transpose, use X.T. Let's call the result XTX.\n",
    "- Invert XTX.\n",
    "- What's the sum of all the elements of the result?\n",
    "- Hint: if the result is negative, re-read the task one more time"
   ]
  },
  {
   "cell_type": "code",
   "execution_count": 14,
   "id": "bbf329c0",
   "metadata": {
    "ExecuteTime": {
     "end_time": "2021-09-13T14:22:03.164581Z",
     "start_time": "2021-09-13T14:22:03.138258Z"
    }
   },
   "outputs": [],
   "source": [
    "X = df[df.Make == 'Rolls-Royce'][[\"Engine HP\", \"Engine Cylinders\",\"highway MPG\"]].drop_duplicates().to_numpy()"
   ]
  },
  {
   "cell_type": "code",
   "execution_count": 15,
   "id": "6fc5f2f4",
   "metadata": {
    "ExecuteTime": {
     "end_time": "2021-09-13T14:22:03.210285Z",
     "start_time": "2021-09-13T14:22:03.169564Z"
    }
   },
   "outputs": [],
   "source": [
    "XTX = X.T @ X"
   ]
  },
  {
   "cell_type": "code",
   "execution_count": 16,
   "id": "19a6ba18",
   "metadata": {
    "ExecuteTime": {
     "end_time": "2021-09-13T14:22:03.241448Z",
     "start_time": "2021-09-13T14:22:03.215436Z"
    }
   },
   "outputs": [
    {
     "data": {
      "text/plain": [
       "0.032212320677486195"
      ]
     },
     "execution_count": 16,
     "metadata": {},
     "output_type": "execute_result"
    }
   ],
   "source": [
    "np.linalg.inv(XTX).sum()"
   ]
  },
  {
   "cell_type": "markdown",
   "id": "d4615f73",
   "metadata": {},
   "source": [
    "## Questions 7\n",
    "- Create an array y with values [1000, 1100, 900, 1200, 1000, 850, 1300].\n",
    "- Multiply the inverse of XTX with the transpose of X, and then multiply the result by y. Call the result w.\n",
    "- What's the value of the first element of w?."
   ]
  },
  {
   "cell_type": "code",
   "execution_count": 17,
   "id": "e5e2a18d",
   "metadata": {
    "ExecuteTime": {
     "end_time": "2021-09-13T14:22:03.271477Z",
     "start_time": "2021-09-13T14:22:03.249451Z"
    }
   },
   "outputs": [],
   "source": [
    "y = [1000, 1100, 900, 1200, 1000, 850, 1300]"
   ]
  },
  {
   "cell_type": "code",
   "execution_count": 18,
   "id": "0dec43be",
   "metadata": {
    "ExecuteTime": {
     "end_time": "2021-09-13T14:22:03.287144Z",
     "start_time": "2021-09-13T14:22:03.276453Z"
    }
   },
   "outputs": [],
   "source": [
    "w = np.linalg.inv(XTX) @ X.T @ y"
   ]
  },
  {
   "cell_type": "code",
   "execution_count": 19,
   "id": "80e37dae",
   "metadata": {
    "ExecuteTime": {
     "end_time": "2021-09-13T14:22:03.319777Z",
     "start_time": "2021-09-13T14:22:03.292346Z"
    }
   },
   "outputs": [
    {
     "data": {
      "text/plain": [
       "0.19989598183186175"
      ]
     },
     "execution_count": 19,
     "metadata": {},
     "output_type": "execute_result"
    }
   ],
   "source": [
    "w[0]"
   ]
  }
 ],
 "metadata": {
  "kernelspec": {
   "display_name": "Python 3",
   "language": "python",
   "name": "python3"
  },
  "language_info": {
   "codemirror_mode": {
    "name": "ipython",
    "version": 3
   },
   "file_extension": ".py",
   "mimetype": "text/x-python",
   "name": "python",
   "nbconvert_exporter": "python",
   "pygments_lexer": "ipython3",
   "version": "3.8.11"
  },
  "varInspector": {
   "cols": {
    "lenName": 16,
    "lenType": 16,
    "lenVar": 40
   },
   "kernels_config": {
    "python": {
     "delete_cmd_postfix": "",
     "delete_cmd_prefix": "del ",
     "library": "var_list.py",
     "varRefreshCmd": "print(var_dic_list())"
    },
    "r": {
     "delete_cmd_postfix": ") ",
     "delete_cmd_prefix": "rm(",
     "library": "var_list.r",
     "varRefreshCmd": "cat(var_dic_list()) "
    }
   },
   "types_to_exclude": [
    "module",
    "function",
    "builtin_function_or_method",
    "instance",
    "_Feature"
   ],
   "window_display": false
  }
 },
 "nbformat": 4,
 "nbformat_minor": 5
}
